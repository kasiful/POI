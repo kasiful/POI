{
 "cells": [
  {
   "cell_type": "markdown",
   "metadata": {},
   "source": [
    "### Preparation\n",
    "Dataset Preparation"
   ]
  },
  {
   "cell_type": "code",
   "execution_count": 1,
   "metadata": {},
   "outputs": [
    {
     "name": "stdout",
     "output_type": "stream",
     "text": [
      "(1948424, 7)\n"
     ]
    },
    {
     "data": {
      "text/html": [
       "<div>\n",
       "<style scoped>\n",
       "    .dataframe tbody tr th:only-of-type {\n",
       "        vertical-align: middle;\n",
       "    }\n",
       "\n",
       "    .dataframe tbody tr th {\n",
       "        vertical-align: top;\n",
       "    }\n",
       "\n",
       "    .dataframe thead th {\n",
       "        text-align: right;\n",
       "    }\n",
       "</style>\n",
       "<table border=\"1\" class=\"dataframe\">\n",
       "  <thead>\n",
       "    <tr style=\"text-align: right;\">\n",
       "      <th></th>\n",
       "      <th>latitude</th>\n",
       "      <th>longitude</th>\n",
       "      <th>accuracy</th>\n",
       "      <th>DESA2020_2</th>\n",
       "      <th>jenis_infra</th>\n",
       "      <th>nama</th>\n",
       "      <th>provinsi</th>\n",
       "    </tr>\n",
       "  </thead>\n",
       "  <tbody>\n",
       "    <tr>\n",
       "      <th>0</th>\n",
       "      <td>-4.729118</td>\n",
       "      <td>122.726172</td>\n",
       "      <td>3.0</td>\n",
       "      <td>7402081006</td>\n",
       "      <td>TK Negeri</td>\n",
       "      <td>infra desa ke-1</td>\n",
       "      <td>74</td>\n",
       "    </tr>\n",
       "    <tr>\n",
       "      <th>1</th>\n",
       "      <td>-4.729056</td>\n",
       "      <td>122.726136</td>\n",
       "      <td>3.0</td>\n",
       "      <td>7402081006</td>\n",
       "      <td>SD Negeri</td>\n",
       "      <td>infra desa ke-2</td>\n",
       "      <td>74</td>\n",
       "    </tr>\n",
       "    <tr>\n",
       "      <th>2</th>\n",
       "      <td>-4.733765</td>\n",
       "      <td>122.726644</td>\n",
       "      <td>3.0</td>\n",
       "      <td>7402081006</td>\n",
       "      <td>SMK Swasta</td>\n",
       "      <td>infra desa ke-3</td>\n",
       "      <td>74</td>\n",
       "    </tr>\n",
       "    <tr>\n",
       "      <th>3</th>\n",
       "      <td>-4.728721</td>\n",
       "      <td>122.725981</td>\n",
       "      <td>3.0</td>\n",
       "      <td>7402081006</td>\n",
       "      <td>Puskesmas tanpa rawat inap</td>\n",
       "      <td>infra desa ke-4</td>\n",
       "      <td>74</td>\n",
       "    </tr>\n",
       "    <tr>\n",
       "      <th>4</th>\n",
       "      <td>-4.731726</td>\n",
       "      <td>122.727547</td>\n",
       "      <td>3.0</td>\n",
       "      <td>7402081006</td>\n",
       "      <td>Tempat praktek bidan</td>\n",
       "      <td>infra desa ke-5</td>\n",
       "      <td>74</td>\n",
       "    </tr>\n",
       "  </tbody>\n",
       "</table>\n",
       "</div>"
      ],
      "text/plain": [
       "   latitude   longitude  accuracy  DESA2020_2                 jenis_infra  \\\n",
       "0 -4.729118  122.726172       3.0  7402081006                   TK Negeri   \n",
       "1 -4.729056  122.726136       3.0  7402081006                   SD Negeri   \n",
       "2 -4.733765  122.726644       3.0  7402081006                  SMK Swasta   \n",
       "3 -4.728721  122.725981       3.0  7402081006  Puskesmas tanpa rawat inap   \n",
       "4 -4.731726  122.727547       3.0  7402081006        Tempat praktek bidan   \n",
       "\n",
       "              nama  provinsi  \n",
       "0  infra desa ke-1        74  \n",
       "1  infra desa ke-2        74  \n",
       "2  infra desa ke-3        74  \n",
       "3  infra desa ke-4        74  \n",
       "4  infra desa ke-5        74  "
      ]
     },
     "execution_count": 1,
     "metadata": {},
     "output_type": "execute_result"
    }
   ],
   "source": [
    "import pandas as pd\n",
    "import geopandas as gpd\n",
    "import warnings\n",
    "\n",
    "# Load dataset\n",
    "df = pd.read_csv('data/wilkerstat/masking_infrastructutre.csv', sep='~')\n",
    "df['provinsi'] = df.DESA2020_2.apply(lambda r: int(str(r)[:2]))\n",
    "print(df.shape)\n",
    "df.head()"
   ]
  },
  {
   "cell_type": "code",
   "execution_count": 2,
   "metadata": {},
   "outputs": [
    {
     "name": "stdout",
     "output_type": "stream",
     "text": [
      "(1031336, 7)\n"
     ]
    },
    {
     "data": {
      "text/plain": [
       "35    336563\n",
       "32    293457\n",
       "33    270234\n",
       "36     52072\n",
       "34     45229\n",
       "31     33781\n",
       "Name: provinsi, dtype: int64"
      ]
     },
     "execution_count": 2,
     "metadata": {},
     "output_type": "execute_result"
    }
   ],
   "source": [
    "# Filter POI wilkerstat for Java island\n",
    "df = df.loc[(df.provinsi > 30) & (df.provinsi < 40)]\n",
    "df = df.reset_index(drop=True)\n",
    "print(df.shape)\n",
    "df.provinsi.value_counts()"
   ]
  },
  {
   "cell_type": "code",
   "execution_count": 7,
   "metadata": {},
   "outputs": [],
   "source": [
    "# for i in sorted(df.jenis_infra.unique()):\n",
    "#     print(i)\n",
    "\n",
    "# Warung:\n",
    "# Warung/kedai makanan minuman\n",
    "# Warung Jamu/Toko herbal/Toko Obat\n",
    "\n",
    "# Supermarket:\n",
    "# Supermarket\n",
    "\n",
    "# Pasar:\n",
    "# Pasar dengan bangunan permanen\n",
    "# Pasar dengan bangunan semi permanen\n",
    "# Pasar tanpa bangunan\n",
    "\n",
    "# Kelompok Pertokoan:\n",
    "# Kelompok pertokoan\n",
    "\n",
    "# Mall:\n",
    "# Mall\n",
    "\n",
    "# Minimarket:\n",
    "# Minimarket"
   ]
  },
  {
   "cell_type": "code",
   "execution_count": 8,
   "metadata": {},
   "outputs": [],
   "source": [
    "# Category of infrastructure/POI required\n",
    "poi = {\n",
    "        'warung' :['Warung/kedai makanan minuman', 'Warung Jamu/Toko herbal/Toko Obat'],\n",
    "        'supermarket' :['Supermarket'],\n",
    "        'pasar':['Pasar dengan bangunan permanen', 'Pasar dengan bangunan semi permanen', 'Pasar tanpa bangunan'],\n",
    "        'klp_toko':['Kelompok pertokoan'],\n",
    "        'mall' :['Mall'],\n",
    "        'minimarket':['Minimarket']\n",
    "    }\n",
    "\n",
    "def get_kat(i):\n",
    "    for key, value in poi.items():\n",
    "        res = None\n",
    "        if i in value:\n",
    "            res = key\n",
    "            break\n",
    "    return res"
   ]
  },
  {
   "cell_type": "code",
   "execution_count": 9,
   "metadata": {},
   "outputs": [
    {
     "name": "stdout",
     "output_type": "stream",
     "text": [
      "(367916, 8)\n"
     ]
    },
    {
     "data": {
      "text/plain": [
       "35    149807\n",
       "33     89020\n",
       "32     78828\n",
       "36     17943\n",
       "34     17785\n",
       "31     14533\n",
       "Name: provinsi, dtype: int64"
      ]
     },
     "execution_count": 9,
     "metadata": {},
     "output_type": "execute_result"
    }
   ],
   "source": [
    "# Filter only the appropriate POI categories\n",
    "df['kat_infra'] = df.jenis_infra.apply(get_kat)\n",
    "df = df[df.kat_infra.notnull()]\n",
    "print(df.shape)\n",
    "df.provinsi.value_counts()"
   ]
  },
  {
   "cell_type": "code",
   "execution_count": 11,
   "metadata": {},
   "outputs": [
    {
     "data": {
      "text/plain": [
       "<AxesSubplot:title={'center':'Kategori Infrastruktur (Jawa)'}, ylabel='kat_infra'>"
      ]
     },
     "execution_count": 11,
     "metadata": {},
     "output_type": "execute_result"
    },
    {
     "data": {
      "image/png": "[encoded data removed]",
      "text/plain": [
       "<Figure size 432x288 with 1 Axes>"
      ]
     },
     "metadata": {},
     "output_type": "display_data"
    }
   ],
   "source": [
    "# Show\n",
    "df['kat_infra'].value_counts().plot(kind='pie', title='Kategori Infrastruktur (Jawa)')"
   ]
  },
  {
   "cell_type": "markdown",
   "metadata": {},
   "source": [
    "Convert to Geo-DataFrame and save the output"
   ]
  },
  {
   "cell_type": "code",
   "execution_count": 12,
   "metadata": {},
   "outputs": [
    {
     "name": "stdout",
     "output_type": "stream",
     "text": [
      "epsg:4326\n"
     ]
    },
    {
     "data": {
      "text/html": [
       "<div>\n",
       "<style scoped>\n",
       "    .dataframe tbody tr th:only-of-type {\n",
       "        vertical-align: middle;\n",
       "    }\n",
       "\n",
       "    .dataframe tbody tr th {\n",
       "        vertical-align: top;\n",
       "    }\n",
       "\n",
       "    .dataframe thead th {\n",
       "        text-align: right;\n",
       "    }\n",
       "</style>\n",
       "<table border=\"1\" class=\"dataframe\">\n",
       "  <thead>\n",
       "    <tr style=\"text-align: right;\">\n",
       "      <th></th>\n",
       "      <th>latitude</th>\n",
       "      <th>longitude</th>\n",
       "      <th>accuracy</th>\n",
       "      <th>DESA2020_2</th>\n",
       "      <th>jenis_infra</th>\n",
       "      <th>nama</th>\n",
       "      <th>provinsi</th>\n",
       "      <th>kat_infra</th>\n",
       "      <th>geometry</th>\n",
       "    </tr>\n",
       "  </thead>\n",
       "  <tbody>\n",
       "    <tr>\n",
       "      <th>7</th>\n",
       "      <td>-8.091890</td>\n",
       "      <td>111.939082</td>\n",
       "      <td>2.4</td>\n",
       "      <td>3504100011</td>\n",
       "      <td>Warung/kedai makanan minuman</td>\n",
       "      <td>infra desa ke-8</td>\n",
       "      <td>35</td>\n",
       "      <td>warung</td>\n",
       "      <td>POINT (111.93908 -8.09189)</td>\n",
       "    </tr>\n",
       "    <tr>\n",
       "      <th>8</th>\n",
       "      <td>-8.092022</td>\n",
       "      <td>111.939092</td>\n",
       "      <td>2.2</td>\n",
       "      <td>3504100011</td>\n",
       "      <td>Warung/kedai makanan minuman</td>\n",
       "      <td>infra desa ke-9</td>\n",
       "      <td>35</td>\n",
       "      <td>warung</td>\n",
       "      <td>POINT (111.93909 -8.09202)</td>\n",
       "    </tr>\n",
       "    <tr>\n",
       "      <th>9</th>\n",
       "      <td>-8.094377</td>\n",
       "      <td>111.939337</td>\n",
       "      <td>2.2</td>\n",
       "      <td>3504100011</td>\n",
       "      <td>Warung/kedai makanan minuman</td>\n",
       "      <td>infra desa ke-10</td>\n",
       "      <td>35</td>\n",
       "      <td>warung</td>\n",
       "      <td>POINT (111.93934 -8.09438)</td>\n",
       "    </tr>\n",
       "    <tr>\n",
       "      <th>10</th>\n",
       "      <td>-8.096866</td>\n",
       "      <td>111.939811</td>\n",
       "      <td>1.7</td>\n",
       "      <td>3504100011</td>\n",
       "      <td>Warung/kedai makanan minuman</td>\n",
       "      <td>infra desa ke-11</td>\n",
       "      <td>35</td>\n",
       "      <td>warung</td>\n",
       "      <td>POINT (111.93981 -8.09687)</td>\n",
       "    </tr>\n",
       "    <tr>\n",
       "      <th>11</th>\n",
       "      <td>-8.093868</td>\n",
       "      <td>111.939447</td>\n",
       "      <td>1.5</td>\n",
       "      <td>3504100011</td>\n",
       "      <td>Warung/kedai makanan minuman</td>\n",
       "      <td>infra desa ke-12</td>\n",
       "      <td>35</td>\n",
       "      <td>warung</td>\n",
       "      <td>POINT (111.93945 -8.09387)</td>\n",
       "    </tr>\n",
       "  </tbody>\n",
       "</table>\n",
       "</div>"
      ],
      "text/plain": [
       "    latitude   longitude  accuracy  DESA2020_2                   jenis_infra  \\\n",
       "7  -8.091890  111.939082       2.4  3504100011  Warung/kedai makanan minuman   \n",
       "8  -8.092022  111.939092       2.2  3504100011  Warung/kedai makanan minuman   \n",
       "9  -8.094377  111.939337       2.2  3504100011  Warung/kedai makanan minuman   \n",
       "10 -8.096866  111.939811       1.7  3504100011  Warung/kedai makanan minuman   \n",
       "11 -8.093868  111.939447       1.5  3504100011  Warung/kedai makanan minuman   \n",
       "\n",
       "                nama  provinsi kat_infra                    geometry  \n",
       "7    infra desa ke-8        35    warung  POINT (111.93908 -8.09189)  \n",
       "8    infra desa ke-9        35    warung  POINT (111.93909 -8.09202)  \n",
       "9   infra desa ke-10        35    warung  POINT (111.93934 -8.09438)  \n",
       "10  infra desa ke-11        35    warung  POINT (111.93981 -8.09687)  \n",
       "11  infra desa ke-12        35    warung  POINT (111.93945 -8.09387)  "
      ]
     },
     "execution_count": 12,
     "metadata": {},
     "output_type": "execute_result"
    }
   ],
   "source": [
    "# Convert to geo-dataframe\n",
    "dfg = gpd.GeoDataFrame(df, geometry=gpd.GeoSeries.from_xy(df.longitude, df.latitude), crs=4326)\n",
    "print(dfg.crs)\n",
    "dfg.head()"
   ]
  },
  {
   "cell_type": "code",
   "execution_count": 13,
   "metadata": {},
   "outputs": [
    {
     "data": {
      "text/plain": [
       "<AxesSubplot:>"
      ]
     },
     "execution_count": 13,
     "metadata": {},
     "output_type": "execute_result"
    },
    {
     "data": {
      "image/png": "[encoded data removed]",
      "text/plain": [
       "<Figure size 432x288 with 1 Axes>"
      ]
     },
     "metadata": {
      "needs_background": "light"
     },
     "output_type": "display_data"
    }
   ],
   "source": [
    "# Show\n",
    "dfg.plot()"
   ]
  },
  {
   "cell_type": "code",
   "execution_count": 14,
   "metadata": {},
   "outputs": [
    {
     "name": "stderr",
     "output_type": "stream",
     "text": [
      "/tmp/ipykernel_94447/1544757924.py:2: UserWarning: Column names longer than 10 characters will be truncated when saved to ESRI Shapefile.\n",
      "  dfg.to_file('data/wilkerstat/extract/wilkerstat-java-poi-ekonomi.shp')\n"
     ]
    }
   ],
   "source": [
    "# Save the output into a file\n",
    "dfg.to_file('data/wilkerstat/extract/wilkerstat-java-poi-ekonomi.shp')"
   ]
  },
  {
   "cell_type": "markdown",
   "metadata": {},
   "source": [
    "### Preprocessing\n",
    "Load shp for each province"
   ]
  },
  {
   "cell_type": "code",
   "execution_count": 15,
   "metadata": {},
   "outputs": [
    {
     "data": {
      "text/plain": [
       "['data/grid/one_poly/shp_grid_31_one/shp_grid_31_one.shp',\n",
       " 'data/grid/one_poly/shp_grid_32_one/shp_grid_32_one.shp',\n",
       " 'data/grid/one_poly/shp_grid_33_one/shp_grid_33_one.shp',\n",
       " 'data/grid/one_poly/shp_grid_34_one/shp_grid_34_one.shp',\n",
       " 'data/grid/one_poly/shp_grid_35_one/shp_grid_35_one.shp',\n",
       " 'data/grid/one_poly/shp_grid_36_one/shp_grid_36_one.shp']"
      ]
     },
     "execution_count": 15,
     "metadata": {},
     "output_type": "execute_result"
    }
   ],
   "source": [
    "import glob\n",
    "import numpy as np\n",
    "from tqdm import tqdm\n",
    "\n",
    "shp_list = glob.glob('data/grid/one_poly/*/*.shp')\n",
    "shp_list"
   ]
  },
  {
   "cell_type": "markdown",
   "metadata": {},
   "source": [
    "Create a buffer for each province with a distance of +/-5KM"
   ]
  },
  {
   "cell_type": "code",
   "execution_count": 16,
   "metadata": {},
   "outputs": [
    {
     "name": "stderr",
     "output_type": "stream",
     "text": [
      "100%|███████████████████████████████████████████████████████████████████████████████████████████████████████████████████████████████████| 6/6 [02:32<00:00, 25.35s/it]\n"
     ]
    },
    {
     "data": {
      "text/html": [
       "<div>\n",
       "<style scoped>\n",
       "    .dataframe tbody tr th:only-of-type {\n",
       "        vertical-align: middle;\n",
       "    }\n",
       "\n",
       "    .dataframe tbody tr th {\n",
       "        vertical-align: top;\n",
       "    }\n",
       "\n",
       "    .dataframe thead th {\n",
       "        text-align: right;\n",
       "    }\n",
       "</style>\n",
       "<table border=\"1\" class=\"dataframe\">\n",
       "  <thead>\n",
       "    <tr style=\"text-align: right;\">\n",
       "      <th></th>\n",
       "      <th>latitude</th>\n",
       "      <th>longitude</th>\n",
       "      <th>accuracy</th>\n",
       "      <th>DESA2020_2</th>\n",
       "      <th>jenis_infra</th>\n",
       "      <th>nama</th>\n",
       "      <th>provinsi</th>\n",
       "      <th>kat_infra</th>\n",
       "      <th>geometry</th>\n",
       "      <th>31</th>\n",
       "      <th>32</th>\n",
       "      <th>33</th>\n",
       "      <th>34</th>\n",
       "      <th>35</th>\n",
       "      <th>36</th>\n",
       "    </tr>\n",
       "  </thead>\n",
       "  <tbody>\n",
       "    <tr>\n",
       "      <th>7</th>\n",
       "      <td>-8.091890</td>\n",
       "      <td>111.939082</td>\n",
       "      <td>2.4</td>\n",
       "      <td>3504100011</td>\n",
       "      <td>Warung/kedai makanan minuman</td>\n",
       "      <td>infra desa ke-8</td>\n",
       "      <td>35</td>\n",
       "      <td>warung</td>\n",
       "      <td>POINT (111.93908 -8.09189)</td>\n",
       "      <td>False</td>\n",
       "      <td>False</td>\n",
       "      <td>False</td>\n",
       "      <td>False</td>\n",
       "      <td>True</td>\n",
       "      <td>False</td>\n",
       "    </tr>\n",
       "    <tr>\n",
       "      <th>8</th>\n",
       "      <td>-8.092022</td>\n",
       "      <td>111.939092</td>\n",
       "      <td>2.2</td>\n",
       "      <td>3504100011</td>\n",
       "      <td>Warung/kedai makanan minuman</td>\n",
       "      <td>infra desa ke-9</td>\n",
       "      <td>35</td>\n",
       "      <td>warung</td>\n",
       "      <td>POINT (111.93909 -8.09202)</td>\n",
       "      <td>False</td>\n",
       "      <td>False</td>\n",
       "      <td>False</td>\n",
       "      <td>False</td>\n",
       "      <td>True</td>\n",
       "      <td>False</td>\n",
       "    </tr>\n",
       "    <tr>\n",
       "      <th>9</th>\n",
       "      <td>-8.094377</td>\n",
       "      <td>111.939337</td>\n",
       "      <td>2.2</td>\n",
       "      <td>3504100011</td>\n",
       "      <td>Warung/kedai makanan minuman</td>\n",
       "      <td>infra desa ke-10</td>\n",
       "      <td>35</td>\n",
       "      <td>warung</td>\n",
       "      <td>POINT (111.93934 -8.09438)</td>\n",
       "      <td>False</td>\n",
       "      <td>False</td>\n",
       "      <td>False</td>\n",
       "      <td>False</td>\n",
       "      <td>True</td>\n",
       "      <td>False</td>\n",
       "    </tr>\n",
       "    <tr>\n",
       "      <th>10</th>\n",
       "      <td>-8.096866</td>\n",
       "      <td>111.939811</td>\n",
       "      <td>1.7</td>\n",
       "      <td>3504100011</td>\n",
       "      <td>Warung/kedai makanan minuman</td>\n",
       "      <td>infra desa ke-11</td>\n",
       "      <td>35</td>\n",
       "      <td>warung</td>\n",
       "      <td>POINT (111.93981 -8.09687)</td>\n",
       "      <td>False</td>\n",
       "      <td>False</td>\n",
       "      <td>False</td>\n",
       "      <td>False</td>\n",
       "      <td>True</td>\n",
       "      <td>False</td>\n",
       "    </tr>\n",
       "    <tr>\n",
       "      <th>11</th>\n",
       "      <td>-8.093868</td>\n",
       "      <td>111.939447</td>\n",
       "      <td>1.5</td>\n",
       "      <td>3504100011</td>\n",
       "      <td>Warung/kedai makanan minuman</td>\n",
       "      <td>infra desa ke-12</td>\n",
       "      <td>35</td>\n",
       "      <td>warung</td>\n",
       "      <td>POINT (111.93945 -8.09387)</td>\n",
       "      <td>False</td>\n",
       "      <td>False</td>\n",
       "      <td>False</td>\n",
       "      <td>False</td>\n",
       "      <td>True</td>\n",
       "      <td>False</td>\n",
       "    </tr>\n",
       "  </tbody>\n",
       "</table>\n",
       "</div>"
      ],
      "text/plain": [
       "    latitude   longitude  accuracy  DESA2020_2                   jenis_infra  \\\n",
       "7  -8.091890  111.939082       2.4  3504100011  Warung/kedai makanan minuman   \n",
       "8  -8.092022  111.939092       2.2  3504100011  Warung/kedai makanan minuman   \n",
       "9  -8.094377  111.939337       2.2  3504100011  Warung/kedai makanan minuman   \n",
       "10 -8.096866  111.939811       1.7  3504100011  Warung/kedai makanan minuman   \n",
       "11 -8.093868  111.939447       1.5  3504100011  Warung/kedai makanan minuman   \n",
       "\n",
       "                nama  provinsi kat_infra                    geometry     31  \\\n",
       "7    infra desa ke-8        35    warung  POINT (111.93908 -8.09189)  False   \n",
       "8    infra desa ke-9        35    warung  POINT (111.93909 -8.09202)  False   \n",
       "9   infra desa ke-10        35    warung  POINT (111.93934 -8.09438)  False   \n",
       "10  infra desa ke-11        35    warung  POINT (111.93981 -8.09687)  False   \n",
       "11  infra desa ke-12        35    warung  POINT (111.93945 -8.09387)  False   \n",
       "\n",
       "       32     33     34    35     36  \n",
       "7   False  False  False  True  False  \n",
       "8   False  False  False  True  False  \n",
       "9   False  False  False  True  False  \n",
       "10  False  False  False  True  False  \n",
       "11  False  False  False  True  False  "
      ]
     },
     "execution_count": 16,
     "metadata": {},
     "output_type": "execute_result"
    }
   ],
   "source": [
    "def set_buffer(f):\n",
    "    # read file\n",
    "    kode = f.replace('_one','').split('.')[0][-2:]\n",
    "    shp  = gpd.read_file(f).iloc[:,-5:]\n",
    "    shp  = shp.to_crs(4326)\n",
    "    shp['geometry'] = shp['geometry'].buffer(0.044999, cap_style=3, join_style=2) #5km\n",
    "    \n",
    "    # within poi wikerstat dengan buffer provinsi\n",
    "    dfg[kode] = dfg.within(shp.loc[0, 'geometry'])\n",
    "\n",
    "warnings.filterwarnings('ignore')\n",
    "for f in tqdm(shp_list):\n",
    "    set_buffer(f)\n",
    "dfg.head()"
   ]
  },
  {
   "cell_type": "markdown",
   "metadata": {},
   "source": [
    "Save dataset POI-buffer"
   ]
  },
  {
   "cell_type": "code",
   "execution_count": 17,
   "metadata": {},
   "outputs": [],
   "source": [
    "dfg.to_file('data/wilkerstat/buffer/wikerstat-java-poi-buffer-ekonomi.shp')"
   ]
  },
  {
   "cell_type": "markdown",
   "metadata": {},
   "source": [
    "Exploration"
   ]
  },
  {
   "cell_type": "code",
   "execution_count": 18,
   "metadata": {},
   "outputs": [
    {
     "name": "stdout",
     "output_type": "stream",
     "text": [
      "PROVINSI-31\n",
      "31    14533\n",
      "32     8317\n",
      "36     3258\n",
      "Name: provinsi, dtype: int64\n",
      "PROVINSI-32\n",
      "32    78828\n",
      "31     3440\n",
      "36     1906\n",
      "33      634\n",
      "Name: provinsi, dtype: int64\n",
      "PROVINSI-33\n",
      "33    89020\n",
      "34     2993\n",
      "35     2736\n",
      "32     1570\n",
      "Name: provinsi, dtype: int64\n",
      "PROVINSI-34\n",
      "34    17785\n",
      "33     2127\n",
      "Name: provinsi, dtype: int64\n",
      "PROVINSI-35\n",
      "35    149807\n",
      "33      2021\n",
      "Name: provinsi, dtype: int64\n",
      "PROVINSI-36\n",
      "36    17943\n",
      "31     4647\n",
      "32     2455\n",
      "Name: provinsi, dtype: int64\n"
     ]
    }
   ],
   "source": [
    "for kode in np.sort(dfg.provinsi.unique()):\n",
    "    print(f'PROVINSI-{kode}')\n",
    "    print(dfg.loc[dfg[str(kode)]==True].provinsi.value_counts())"
   ]
  },
  {
   "cell_type": "code",
   "execution_count": null,
   "metadata": {},
   "outputs": [],
   "source": []
  }
 ],
 "metadata": {
  "kernelspec": {
   "display_name": "Python 3 (ipykernel)",
   "language": "python",
   "name": "python3"
  },
  "language_info": {
   "codemirror_mode": {
    "name": "ipython",
    "version": 3
   },
   "file_extension": ".py",
   "mimetype": "text/x-python",
   "name": "python",
   "nbconvert_exporter": "python",
   "pygments_lexer": "ipython3",
   "version": "3.8.13"
  },
  "vscode": {
   "interpreter": {
    "hash": "c9fa60391fb802a3e0d0e5dd724c47a200ba0c524d3af959c21e13a57904817b"
   }
  }
 },
 "nbformat": 4,
 "nbformat_minor": 4
}
